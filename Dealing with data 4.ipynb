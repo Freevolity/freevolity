{
  "nbformat": 4,
  "nbformat_minor": 0,
  "metadata": {
    "colab": {
      "name": "Untitled2.ipynb",
      "version": "0.3.2",
      "provenance": [],
      "include_colab_link": true
    },
    "kernelspec": {
      "display_name": "Python 3",
      "language": "python",
      "name": "python3"
    }
  },
  "cells": [
    {
      "cell_type": "markdown",
      "metadata": {
        "id": "view-in-github",
        "colab_type": "text"
      },
      "source": [
        "[View in Colaboratory](https://colab.research.google.com/github/Freevolity/freevolity/blob/master/Dealing%20with%20data%204.ipynb)"
      ]
    },
    {
      "metadata": {
        "id": "R6fm52Up64Ip",
        "colab_type": "code",
        "colab": {
          "base_uri": "https://localhost:8080/",
          "height": 17
        },
        "outputId": "1705a6de-0c06-48c6-c072-a791bc0e88a8"
      },
      "cell_type": "code",
      "source": [
        "import pandas as pd\n",
        "import numpy as np\n",
        "import matplotlib.pyplot as plt\n",
        "from scipy.stats import norm\n",
        "\n",
        "%matplotlib inline"
      ],
      "execution_count": 1,
      "outputs": []
    },
    {
      "metadata": {
        "id": "Tm-irsU2C350",
        "colab_type": "text"
      },
      "cell_type": "markdown",
      "source": [
        "#How to deal with open data?\n",
        "##1. Reading data\n",
        " \n",
        " There are lots of open data portals, where you can find data according to your area of interest. \n",
        " \n",
        " In our case, we'll use **CERN open data portal**. *(http://opendata.cern.ch/)*\n",
        " \n",
        " To read the data you should create an array and  use  **pd.read_csv** function to fill this array with the data from the data source. \n",
        " \n",
        "The link to the data portal is the argument of the  **pd.read_csv**  function.\n",
        " \n",
        " *Note*: data should be a* .csv* file\n",
        " \n",
        " **Example:**\n",
        " \n",
        " demo = pd.read_csv('https://www.opendatani.gov.uk/dataset/62e7073f-e924-4d3f-81a5-ad45b5127682/resource/bf80a212-7b2b-4548-9e7e-ceb5b6344980/download/northern-ireland-by-single-year-of-age-and-gender-mid-1971-to-mid-2017.csv')\n",
        " \n",
        "\n",
        "\n",
        "\n",
        "**Task 1.**\n",
        "\n",
        "\n",
        "We'll use the 2012 sample from CMS experiment (CERN, Geneve). \n",
        "\n",
        "** Name the array and read the data from http://opendata.cern.ch/record/545/files/Dimuon_DoubleMu.csv file.** \n",
        " \n",
        " "
      ]
    },
    {
      "metadata": {
        "id": "9ACrr9KS64JG",
        "colab_type": "code",
        "colab": {
          "base_uri": "https://localhost:8080/",
          "height": 17
        },
        "outputId": "80315000-5c1a-48d5-b2ac-c65f0dd6f676"
      },
      "cell_type": "code",
      "source": [
        "muons = pd.read_csv('http://opendata.cern.ch/record/545/files/Dimuon_DoubleMu.csv')"
      ],
      "execution_count": 2,
      "outputs": []
    },
    {
      "metadata": {
        "id": "Gl68A-dGFkz4",
        "colab_type": "text"
      },
      "cell_type": "markdown",
      "source": [
        "##2. Revealing data.\n",
        "As you have noticed, nothing has changed. The data is read and put in your array, but the information is still \"invisible\" to you. \n",
        "\n",
        "What can be done?\n",
        "\n",
        "If I ask you to draw the table, what would be your very first question? \n",
        "Probably, the number of rows ( = number of experimental measurements = length of the array)\n",
        "\n",
        "**Pre-task**:\n",
        "\n",
        "Try to guess the length of the array you just filled and type it is a separate text cell."
      ]
    },
    {
      "metadata": {
        "id": "XqOV7UA-cwIS",
        "colab_type": "text"
      },
      "cell_type": "markdown",
      "source": [
        "12"
      ]
    },
    {
      "metadata": {
        "id": "6xAk2HP3ZCOY",
        "colab_type": "text"
      },
      "cell_type": "markdown",
      "source": [
        "Actually, we can find out the length of an array using function *len(array's_name)*\n",
        "\n",
        "**Task 2. **\n",
        "Find the length of your array in the code cell below.\n"
      ]
    },
    {
      "metadata": {
        "id": "XjoxCsaiFkJO",
        "colab_type": "code",
        "colab": {
          "base_uri": "https://localhost:8080/",
          "height": 34
        },
        "outputId": "ea1e6b1a-fcd5-42e9-96dd-dfb4d1fb04b5"
      },
      "cell_type": "code",
      "source": [
        "len(muons)"
      ],
      "execution_count": 3,
      "outputs": [
        {
          "output_type": "execute_result",
          "data": {
            "text/plain": [
              "100000"
            ]
          },
          "metadata": {
            "tags": []
          },
          "execution_count": 3
        }
      ]
    },
    {
      "metadata": {
        "id": "D9a56RthdUa0",
        "colab_type": "text"
      },
      "cell_type": "markdown",
      "source": [
        "**Task 3.**\n",
        "*Discussion*: Why so much data? "
      ]
    },
    {
      "metadata": {
        "id": "GWrwsEh3dpmz",
        "colab_type": "text"
      },
      "cell_type": "markdown",
      "source": [
        "**Task 4.** *Brainstorming*: What particle properties can be measured in the experiment? Type your suggestions in the text cell below"
      ]
    },
    {
      "metadata": {
        "id": "7ZshL4xyi6C-",
        "colab_type": "text"
      },
      "cell_type": "markdown",
      "source": [
        "energy or smth"
      ]
    },
    {
      "metadata": {
        "id": "QWF2h58roTC5",
        "colab_type": "text"
      },
      "cell_type": "markdown",
      "source": [
        "**Task 5. **\n",
        "\n",
        "Now it's time for us to shed some light on the data content.\n",
        "\n",
        "\n",
        "Use the function **array's_name.head()** in the code cell below to take a look at the first 5 rows of the data. "
      ]
    },
    {
      "metadata": {
        "id": "MlCBXh7sJmlw",
        "colab_type": "code",
        "colab": {
          "base_uri": "https://localhost:8080/",
          "height": 253
        },
        "outputId": "0fa46622-d704-4683-eaba-e7d309d22bf5"
      },
      "cell_type": "code",
      "source": [
        "muons.head()"
      ],
      "execution_count": 4,
      "outputs": [
        {
          "output_type": "execute_result",
          "data": {
            "text/html": [
              "<div>\n",
              "<style scoped>\n",
              "    .dataframe tbody tr th:only-of-type {\n",
              "        vertical-align: middle;\n",
              "    }\n",
              "\n",
              "    .dataframe tbody tr th {\n",
              "        vertical-align: top;\n",
              "    }\n",
              "\n",
              "    .dataframe thead th {\n",
              "        text-align: right;\n",
              "    }\n",
              "</style>\n",
              "<table border=\"1\" class=\"dataframe\">\n",
              "  <thead>\n",
              "    <tr style=\"text-align: right;\">\n",
              "      <th></th>\n",
              "      <th>Run</th>\n",
              "      <th>Event</th>\n",
              "      <th>type1</th>\n",
              "      <th>E1</th>\n",
              "      <th>px1</th>\n",
              "      <th>py1</th>\n",
              "      <th>pz1</th>\n",
              "      <th>pt1</th>\n",
              "      <th>eta1</th>\n",
              "      <th>phi1</th>\n",
              "      <th>...</th>\n",
              "      <th>type2</th>\n",
              "      <th>E2</th>\n",
              "      <th>px2</th>\n",
              "      <th>py2</th>\n",
              "      <th>pz2</th>\n",
              "      <th>pt2</th>\n",
              "      <th>eta2</th>\n",
              "      <th>phi2</th>\n",
              "      <th>Q2</th>\n",
              "      <th>M</th>\n",
              "    </tr>\n",
              "  </thead>\n",
              "  <tbody>\n",
              "    <tr>\n",
              "      <th>0</th>\n",
              "      <td>165617</td>\n",
              "      <td>74601703</td>\n",
              "      <td>G</td>\n",
              "      <td>9.6987</td>\n",
              "      <td>-9.5104</td>\n",
              "      <td>0.3662</td>\n",
              "      <td>1.8633</td>\n",
              "      <td>9.5175</td>\n",
              "      <td>0.1945</td>\n",
              "      <td>3.1031</td>\n",
              "      <td>...</td>\n",
              "      <td>G</td>\n",
              "      <td>9.7633</td>\n",
              "      <td>7.3277</td>\n",
              "      <td>-1.1524</td>\n",
              "      <td>6.3473</td>\n",
              "      <td>7.4178</td>\n",
              "      <td>0.7756</td>\n",
              "      <td>-0.1560</td>\n",
              "      <td>1</td>\n",
              "      <td>17.4922</td>\n",
              "    </tr>\n",
              "    <tr>\n",
              "      <th>1</th>\n",
              "      <td>165617</td>\n",
              "      <td>75100943</td>\n",
              "      <td>G</td>\n",
              "      <td>6.2039</td>\n",
              "      <td>-4.2666</td>\n",
              "      <td>0.4565</td>\n",
              "      <td>-4.4793</td>\n",
              "      <td>4.2910</td>\n",
              "      <td>-0.9121</td>\n",
              "      <td>3.0350</td>\n",
              "      <td>...</td>\n",
              "      <td>G</td>\n",
              "      <td>9.6690</td>\n",
              "      <td>7.2740</td>\n",
              "      <td>-2.8211</td>\n",
              "      <td>-5.7104</td>\n",
              "      <td>7.8019</td>\n",
              "      <td>-0.6786</td>\n",
              "      <td>-0.3700</td>\n",
              "      <td>1</td>\n",
              "      <td>11.5534</td>\n",
              "    </tr>\n",
              "    <tr>\n",
              "      <th>2</th>\n",
              "      <td>165617</td>\n",
              "      <td>75587682</td>\n",
              "      <td>G</td>\n",
              "      <td>19.2892</td>\n",
              "      <td>-4.2121</td>\n",
              "      <td>-0.6516</td>\n",
              "      <td>18.8121</td>\n",
              "      <td>4.2622</td>\n",
              "      <td>2.1905</td>\n",
              "      <td>-2.9881</td>\n",
              "      <td>...</td>\n",
              "      <td>G</td>\n",
              "      <td>9.8244</td>\n",
              "      <td>4.3439</td>\n",
              "      <td>-0.4735</td>\n",
              "      <td>8.7985</td>\n",
              "      <td>4.3697</td>\n",
              "      <td>1.4497</td>\n",
              "      <td>-0.1086</td>\n",
              "      <td>1</td>\n",
              "      <td>9.1636</td>\n",
              "    </tr>\n",
              "    <tr>\n",
              "      <th>3</th>\n",
              "      <td>165617</td>\n",
              "      <td>75660978</td>\n",
              "      <td>G</td>\n",
              "      <td>7.0427</td>\n",
              "      <td>-6.3268</td>\n",
              "      <td>-0.2685</td>\n",
              "      <td>3.0802</td>\n",
              "      <td>6.3325</td>\n",
              "      <td>0.4690</td>\n",
              "      <td>-3.0992</td>\n",
              "      <td>...</td>\n",
              "      <td>G</td>\n",
              "      <td>5.5857</td>\n",
              "      <td>4.4748</td>\n",
              "      <td>0.8489</td>\n",
              "      <td>-3.2319</td>\n",
              "      <td>4.5546</td>\n",
              "      <td>-0.6605</td>\n",
              "      <td>0.1875</td>\n",
              "      <td>1</td>\n",
              "      <td>12.4774</td>\n",
              "    </tr>\n",
              "    <tr>\n",
              "      <th>4</th>\n",
              "      <td>165617</td>\n",
              "      <td>75947690</td>\n",
              "      <td>G</td>\n",
              "      <td>7.2751</td>\n",
              "      <td>0.1030</td>\n",
              "      <td>-5.5331</td>\n",
              "      <td>-4.7212</td>\n",
              "      <td>5.5340</td>\n",
              "      <td>-0.7736</td>\n",
              "      <td>-1.5522</td>\n",
              "      <td>...</td>\n",
              "      <td>G</td>\n",
              "      <td>7.3181</td>\n",
              "      <td>-0.3988</td>\n",
              "      <td>6.9408</td>\n",
              "      <td>2.2825</td>\n",
              "      <td>6.9523</td>\n",
              "      <td>0.3227</td>\n",
              "      <td>1.6282</td>\n",
              "      <td>1</td>\n",
              "      <td>14.3159</td>\n",
              "    </tr>\n",
              "  </tbody>\n",
              "</table>\n",
              "<p>5 rows × 21 columns</p>\n",
              "</div>"
            ],
            "text/plain": [
              "      Run     Event type1       E1     px1     py1      pz1     pt1    eta1  \\\n",
              "0  165617  74601703     G   9.6987 -9.5104  0.3662   1.8633  9.5175  0.1945   \n",
              "1  165617  75100943     G   6.2039 -4.2666  0.4565  -4.4793  4.2910 -0.9121   \n",
              "2  165617  75587682     G  19.2892 -4.2121 -0.6516  18.8121  4.2622  2.1905   \n",
              "3  165617  75660978     G   7.0427 -6.3268 -0.2685   3.0802  6.3325  0.4690   \n",
              "4  165617  75947690     G   7.2751  0.1030 -5.5331  -4.7212  5.5340 -0.7736   \n",
              "\n",
              "     phi1   ...     type2      E2     px2     py2     pz2     pt2    eta2  \\\n",
              "0  3.1031   ...         G  9.7633  7.3277 -1.1524  6.3473  7.4178  0.7756   \n",
              "1  3.0350   ...         G  9.6690  7.2740 -2.8211 -5.7104  7.8019 -0.6786   \n",
              "2 -2.9881   ...         G  9.8244  4.3439 -0.4735  8.7985  4.3697  1.4497   \n",
              "3 -3.0992   ...         G  5.5857  4.4748  0.8489 -3.2319  4.5546 -0.6605   \n",
              "4 -1.5522   ...         G  7.3181 -0.3988  6.9408  2.2825  6.9523  0.3227   \n",
              "\n",
              "     phi2  Q2        M  \n",
              "0 -0.1560   1  17.4922  \n",
              "1 -0.3700   1  11.5534  \n",
              "2 -0.1086   1   9.1636  \n",
              "3  0.1875   1  12.4774  \n",
              "4  1.6282   1  14.3159  \n",
              "\n",
              "[5 rows x 21 columns]"
            ]
          },
          "metadata": {
            "tags": []
          },
          "execution_count": 4
        }
      ]
    },
    {
      "metadata": {
        "id": "Y6B2AldBKBVT",
        "colab_type": "text"
      },
      "cell_type": "markdown",
      "source": [
        "##3. Understanding data\n"
      ]
    },
    {
      "metadata": {
        "id": "tHhk4lJ1L6-9",
        "colab_type": "text"
      },
      "cell_type": "markdown",
      "source": [
        "\n",
        "\n",
        "\n",
        "\n",
        "As you can see, there are two particles - their properties were calculated in the experiment after the collision.\n",
        "Each characteristics labeled with index 1 or 2 corresponds to the particle 1 or 2 respectively.\n",
        "\n",
        "\n",
        "**E** - particle's energy;\n",
        "\n",
        "**px, py, pz** -  *x,y,z*-components of the particle's  momentum respectively;\n",
        "\n",
        "**pt** - the combination of px and py (component of the momentum that is perpendicular to the beam's movement direction);\n",
        "\n",
        "**eta, phi** - angles that describe particle's movement direction;\n",
        "\n",
        "\n",
        "**Q** - electrical charge of a particle;\n",
        "\n",
        "**M** - invariant mass of a particle, GeV/c^2\n",
        "\n",
        "\n",
        "<img src=\"https://media.giphy.com/media/KpJtbODlSkxYk/giphy.gif\" alt=\"collision\">\n"
      ]
    },
    {
      "metadata": {
        "id": "RFE35ljB55Fy",
        "colab_type": "text"
      },
      "cell_type": "markdown",
      "source": [
        "## Presenting the data \n",
        "\n"
      ]
    },
    {
      "metadata": {
        "id": "yrEA6qeM6Duq",
        "colab_type": "text"
      },
      "cell_type": "markdown",
      "source": [
        "Now we have lots of data presented in form of enormous table. That's clearly not the best to present it, if we want to analyze the data (and we surely do!) . \n",
        "\n",
        "Let's present some data using such graphical visualization as a histogram. \n",
        "\n",
        "** *quick reminder about constructing a histogram:*  **\n",
        "\n",
        "** *step 1.* ** \n",
        "\"Bin\"  the range of values —divide the entire range of values ( for example, particles energy) into a series of intervals. \n",
        "The bins are consecutive, non-overlapping intervals of a variable. \n",
        "\n",
        "The bins must be adjacent, and are usually of equal size.\n",
        "\n",
        "** *step 2.* ** \n",
        "Count how many values fall into each interval.If the bins are of equal size, a rectangle's height over the bin is proportional to the the number of cases in each bin. \n",
        "\n",
        "![Image](https://upload.wikimedia.org/wikipedia/commons/thumb/d/d9/Black_cherry_tree_histogram.svg/220px-Black_cherry_tree_histogram.svg.png)"
      ]
    },
    {
      "metadata": {
        "id": "kbAiUUfF-qa_",
        "colab_type": "text"
      },
      "cell_type": "markdown",
      "source": [
        "** Actually plotting the histogram **\n",
        "\n",
        "We will use some functions \n",
        "\n",
        "** fig = plt.figure(* figsize=(15, 10 *)) ** -* determines the size of a histogram picture*\n",
        "\n",
        "**plt.hist(* array's_name.column's_name, number of bins , range = (smallest,largest value of the variable *)) ** - *plot the histogram according to input parameters in the paranthesis.* \n",
        "\n",
        "*Don't forget to label the axis! *  \n",
        "\n",
        "plt.xlabel('variable, units', fontsize = 15)\n",
        "\n",
        "plt.ylabel('Number of events \\n', fontsize = 15)\n",
        "\n",
        "plt.title('Plot title \\n', fontsize = 15)\n",
        "\n",
        "plt.show()  "
      ]
    },
    {
      "metadata": {
        "id": "YR_uy5r7Eyoq",
        "colab_type": "text"
      },
      "cell_type": "markdown",
      "source": [
        "** Task 6 ** \n",
        "Let's plot a histogram for the invariant mass from your data in the code cell below. \n",
        "\n",
        "*Suggestion * : put the range of masses between 0-150 and try different number of bins in order to get the most informative picture. . "
      ]
    },
    {
      "metadata": {
        "id": "m9nBa0OdJnF6",
        "colab_type": "code",
        "colab": {
          "base_uri": "https://localhost:8080/",
          "height": 670
        },
        "outputId": "78005f47-abad-4ceb-8a28-30fed36637f4"
      },
      "cell_type": "code",
      "source": [
        "fig = plt.figure(figsize=(20, 10))\n",
        "\n",
        "plt.hist(muons.M, 100, range = (0,150))\n",
        "\n",
        "plt.xlabel('Invariant mass (GeV/$c^2$)', fontsize = 15)\n",
        "plt.ylabel('Number of events \\n', fontsize = 15)\n",
        "plt.title('Measured distribution of events with two muons \\n', fontsize = 15)\n",
        "\n",
        "plt.show()"
      ],
      "execution_count": 11,
      "outputs": [
        {
          "output_type": "display_data",
          "data": {
            "image/png": "[encoded data removed]",
            "text/plain": [
              "<matplotlib.figure.Figure at 0x7f8ae6057128>"
            ]
          },
          "metadata": {
            "tags": []
          }
        }
      ]
    },
    {
      "metadata": {
        "id": "dp4sKnpvHyPt",
        "colab_type": "text"
      },
      "cell_type": "markdown",
      "source": [
        "** Task 7. **\n",
        "Write some observations based on the histogram analysis in the text cell below. "
      ]
    },
    {
      "metadata": {
        "id": "rE9JHtpTIBFP",
        "colab_type": "code",
        "colab": {}
      },
      "cell_type": "code",
      "source": [
        ""
      ],
      "execution_count": 0,
      "outputs": []
    }
  ]
}