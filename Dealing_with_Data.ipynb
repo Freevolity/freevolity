{
  "nbformat": 4,
  "nbformat_minor": 0,
  "metadata": {
    "colab": {
      "name": "Untitled2.ipynb",
      "version": "0.3.2",
      "provenance": [],
      "include_colab_link": true
    },
    "kernelspec": {
      "display_name": "Python 3",
      "language": "python",
      "name": "python3"
    }
  },
  "cells": [
    {
      "cell_type": "markdown",
      "metadata": {
        "id": "view-in-github",
        "colab_type": "text"
      },
      "source": [
        "[View in Colaboratory](https://colab.research.google.com/github/Freevolity/freevolity/blob/master/Dealing_with_Data.ipynb)"
      ]
    },
    {
      "metadata": {
        "id": "R6fm52Up64Ip",
        "colab_type": "code",
        "colab": {
          "base_uri": "https://localhost:8080/",
          "height": 17
        },
        "outputId": "dc740c68-4999-4537-a3cc-fc59e196f757"
      },
      "cell_type": "code",
      "source": [
        "import pandas as pd\n",
        "import numpy as np\n",
        "import matplotlib.pyplot as plt\n",
        "from scipy.stats import norm\n",
        "\n",
        "%matplotlib inline"
      ],
      "execution_count": 8,
      "outputs": []
    },
    {
      "metadata": {
        "id": "Tm-irsU2C350",
        "colab_type": "text"
      },
      "cell_type": "markdown",
      "source": [
        "#How to deal with open data?\n",
        "##1. Reading data\n",
        " \n",
        " There are lots of open data portals, where you can find data according to your area of interest. \n",
        " \n",
        " In our case, we'll use **CERN open data portal**. *(http://opendata.cern.ch/)*\n",
        " \n",
        " To read the data you should create an array and  use  **pd.read_csv** function to fill this array with the data from the data source. \n",
        " \n",
        "The link to the data portal is the argument of the  **pd.read_csv**  function.\n",
        " \n",
        " *Note*: data should be a* .csv* file\n",
        " \n",
        " **Example:**\n",
        " \n",
        " demo = pd.read_csv(https://www.opendatani.gov.uk/dataset/62e7073f-e924-4d3f-81a5-ad45b5127682/resource/bf80a212-7b2b-4548-9e7e-ceb5b6344980/download/northern-ireland-by-single-year-of-age-and-gender-mid-1971-to-mid-2017.csv)\n",
        " \n",
        "\n",
        "\n",
        "\n",
        "**Task 1.**\n",
        "\n",
        "\n",
        "We'll use the 2012 sample from CMS experiment (CERN, Geneve). \n",
        "\n",
        "** Name the array and read the data from http://opendata.cern.ch/record/545/files/Dimuon_DoubleMu.csv file.** \n",
        " \n",
        " "
      ]
    },
    {
      "metadata": {
        "id": "9ACrr9KS64JG",
        "colab_type": "code",
        "colab": {
          "base_uri": "https://localhost:8080/",
          "height": 17
        },
        "outputId": "c0065f10-6a61-4cec-ca12-4ee6052734e9"
      },
      "cell_type": "code",
      "source": [
        "muons = pd.read_csv('http://opendata.cern.ch/record/545/files/Dimuon_DoubleMu.csv')"
      ],
      "execution_count": 9,
      "outputs": []
    },
    {
      "metadata": {
        "id": "Gl68A-dGFkz4",
        "colab_type": "text"
      },
      "cell_type": "markdown",
      "source": [
        "##2. Revealing data.\n",
        "As you have noticed, nothing has changed. The data is read and put in your array, but the information is still \"invisible\" to you. \n",
        "\n",
        "What can be done?\n",
        "\n",
        "If I ask you to draw the table, what would be your very first question? \n",
        "Probably, the number of rows ( = number of experimental measurements = length of the array)\n",
        "\n",
        "**Pre-task**:\n",
        "\n",
        "Try to guess the length of the array you just filled and type it is a separate text cell."
      ]
    },
    {
      "metadata": {
        "id": "XqOV7UA-cwIS",
        "colab_type": "text"
      },
      "cell_type": "markdown",
      "source": [
        "12"
      ]
    },
    {
      "metadata": {
        "id": "6xAk2HP3ZCOY",
        "colab_type": "text"
      },
      "cell_type": "markdown",
      "source": [
        "Actually, we can find out the length of an array using function *len(massive's_name)*\n",
        "\n",
        "**Task 2. **\n",
        "Find the length of your massive in the code cell below.\n"
      ]
    },
    {
      "metadata": {
        "id": "XjoxCsaiFkJO",
        "colab_type": "code",
        "colab": {
          "base_uri": "https://localhost:8080/",
          "height": 34
        },
        "outputId": "05b70c51-2e08-4a9c-937c-9add3aa287ea"
      },
      "cell_type": "code",
      "source": [
        "len(muons)"
      ],
      "execution_count": 10,
      "outputs": [
        {
          "output_type": "execute_result",
          "data": {
            "text/plain": [
              "100000"
            ]
          },
          "metadata": {
            "tags": []
          },
          "execution_count": 10
        }
      ]
    },
    {
      "metadata": {
        "id": "D9a56RthdUa0",
        "colab_type": "text"
      },
      "cell_type": "markdown",
      "source": [
        "**Task 3.**\n",
        "Why so much data? Discuss. "
      ]
    },
    {
      "metadata": {
        "id": "GWrwsEh3dpmz",
        "colab_type": "text"
      },
      "cell_type": "markdown",
      "source": [
        ""
      ]
    },
    {
      "metadata": {
        "id": "daFrLtL264Ju",
        "colab_type": "code",
        "colab": {}
      },
      "cell_type": "code",
      "source": [
        ""
      ],
      "execution_count": 0,
      "outputs": []
    }
  ]
}