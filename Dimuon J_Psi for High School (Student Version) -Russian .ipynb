{
 "cells": [
  {
   "cell_type": "markdown",
   "metadata": {
    "colab_type": "text",
    "id": "uZbmugoVuaUw"
   },
   "source": [
    "# Discovering Particles with CERN Open Data\n",
    "\n",
    "Блфбьф Hadron Collider (LHC) at CERN, in Geneva, became world-famous for discovering the Higgs Boson in 2012. During this task, you will use real data from the LHC to learn something about how this was done and hopefully discover a particle of your own!\n",
    "\n",
    "<img src = \"https://home.cern/sites/home.web.cern.ch/files/image/update-for_the_public/2015/03/cms-event.jpg\">\n",
    "\n",
    "\n",
    "## Particle Collisions\n",
    "\n",
    "The LHC is trying to understand the structure of matter by smashing beams of protons together at very close to the speed of light. The energy involved in these collisions produces a shower of particles of all kinds. The CMS and ATLAS detectors look for the particles produced in these collisions and measure their properties. The speed that they are able to do this at is incredible, the LHC produces 40 000 000 collisions every second!\n",
    "\n",
    "Some of the particles produced in the collisions (e.g. electrons and muons) can be directly measured by the detectors. Many of the more exotic and interesting particles (e.g. the famous Higgs boson), however, live for an incredibly short time and transform (decay) into other particles before the detectors can pick them up. So how can we tell they were there? \n",
    "\n",
    "## Hunting for the J/$\\Psi$\n",
    "\n",
    "We will hunt for evidence of one of these very short lived particles, called the J/$\\psi$. Made up of a charm and anticharm quark bound together, its existence is predicted by the standard model of particle physics, but whenever one is created, it lasts an average of only $7,2 \\cdot 10^{-21}$ s before transforming into other particles. This is far too short for it to register in the detectors at the LHC. Fortunately, however, one of the ways the J/$\\psi$ can decay is into a muon-antimuon pair and CMS and ATLAS can detect these muons. The only problem with this, is that the detectors will see thousands of muons from each collision and only some of them will have been produced by a J/$\\psi$. We need to deal with this problem before we can claim to have discovered experimental evidence for the existence of the J/$\\psi$.\n",
    "\n",
    "## Invariant Mass\n",
    "\n",
    "There is a trick that particle physicsts can use when analysing the data produced by the detectors. By combining the momentum and energy of a pair of detected particles in a particular way, you can calculate quantitiy known as \"Invariant Mass\". If the two particles were, indeed, produced by the decay of another particle, this number will tell you the mass of that particle (in units of $GeV/c^2$). If our collisions are producing lots of J/$\\psi$ particles then there should be lots of pairs of muons with an invariant mass corresponding to the predicted mass of the J/$\\psi$.\n",
    "\n",
    "\n",
    "To understand how to put this into practice and claim the discovery of a particle, we need to analyse some experimental data!\n"
   ]
  },
  {
   "cell_type": "markdown",
   "metadata": {
    "colab_type": "text",
    "id": "DK956lP52AYs"
   },
   "source": [
    "# Jupyter Notebooks\n",
    "\n",
    "The document you are looking at now is a Jupyter Notebook. This is a tool used by real professional scientists at CERN (and elsewhere) to analyse the data coming from the LHC. Jupyter notebooks consist of text like this and code cells, like the one below. In the code cells, you can type code in the python programming language. Select the cell and then press ctrl+enter to run the code. Start by running the code cell below. (This code is needed to load some software packages that you will need to use later)"
   ]
  },
  {
   "cell_type": "code",
   "execution_count": 0,
   "metadata": {
    "colab": {
     "autoexec": {
      "startup": false,
      "wait_interval": 0
     }
    },
    "colab_type": "code",
    "id": "4lfPs4PVuVF5"
   },
   "outputs": [],
   "source": [
    "#lines of code writen with a hashtag like this are comments, and will be ignored when you run the code.\n",
    "\n",
    "import pandas as pd\n",
    "import numpy as np\n",
    "import matplotlib.pyplot as plt\n",
    "\n",
    "%matplotlib inline"
   ]
  },
  {
   "cell_type": "markdown",
   "metadata": {
    "colab_type": "text",
    "id": "Tm-irsU2C350"
   },
   "source": [
    "# How to deal with open data?\n",
    "## 1. Reading data\n",
    " \n",
    " There are lots of open data portals, where you can find data according to your area of interest. \n",
    " \n",
    " In our case, we'll use CERN open data portal. *(http://opendata.cern.ch/)*\n",
    " \n",
    " To read the data you need to create an array and  use  **pd.read_csv** function to fill this array with the data from the data source. \n",
    " \n",
    "The link to the data portal is the argument of the  **pd.read_csv**  function.\n",
    " \n",
    " *Note*: the data should be a* .csv* file\n",
    " \n",
    " **Example:**\n",
    " \n",
    " <font color='green'> muons = pd.read_csv('</font> <font color= 'red' > URL </font>  <font color='green'> ')</font>\n",
    " \n",
    "**Note: Where example code is given in this notebook, you should leave the <font color='green'>green</font> parts as they are and replace the <font color= 'red' >red</font> parts.**\n",
    "\n",
    "\n",
    "**Task 1.**\n",
    "\n",
    "\n",
    "To begin our search for the J/ψ  we will load some real-life data taken from the CMS experiment at CERN. CERN makes this data publicly available to use for projects like this! \n",
    "\n",
    "Use the example above to type some code into the cell below to create an array named \"muons\" and read in the data from: http://opendata.cern.ch/record/545/files/Dimuon_DoubleMu.csv\n",
    "\n",
    " "
   ]
  },
  {
   "cell_type": "code",
   "execution_count": 0,
   "metadata": {
    "colab": {
     "autoexec": {
      "startup": false,
      "wait_interval": 0
     }
    },
    "colab_type": "code",
    "id": "9ACrr9KS64JG"
   },
   "outputs": [],
   "source": []
  },
  {
   "cell_type": "markdown",
   "metadata": {
    "colab_type": "text",
    "id": "Gl68A-dGFkz4"
   },
   "source": [
    "## 2. Revealing data.\n",
    "As you have noticed, nothing seems to have happened. The data is read and stored in your array, but the information is still \"invisible\" to you. \n",
    "\n",
    "It would be useful to know how much data we have just stored.\n",
    "\n",
    "An array is really just a table, so we need to know the number of rows (this corresponds to the number of experimental measurements and is the length of the array)\n",
    "\n",
    "**Pre-task**:\n",
    "\n",
    "**Q:** Guess the length of the array you just filled (i.e. how many rows does it contain?) and type your guess in the text cell below."
   ]
  },
  {
   "cell_type": "markdown",
   "metadata": {
    "colab_type": "text",
    "id": "XqOV7UA-cwIS"
   },
   "source": [
    "**A:**"
   ]
  },
  {
   "cell_type": "markdown",
   "metadata": {
    "colab_type": "text",
    "id": "6xAk2HP3ZCOY"
   },
   "source": [
    "We can find out the length of an array using the len function\n",
    "\n",
    "**Example:**\n",
    "\n",
    "<font color = 'green'>len(</font><font color = 'red'>name_of_array</font><font color = 'green'>)</font>\n",
    "\n",
    "**Task 2. **\n",
    "Find the length of your array using the code cell below.\n"
   ]
  },
  {
   "cell_type": "code",
   "execution_count": 0,
   "metadata": {
    "colab": {
     "autoexec": {
      "startup": false,
      "wait_interval": 0
     }
    },
    "colab_type": "code",
    "id": "XjoxCsaiFkJO"
   },
   "outputs": [],
   "source": []
  },
  {
   "cell_type": "markdown",
   "metadata": {
    "colab_type": "text",
    "id": "D9a56RthdUa0"
   },
   "source": [
    "**Task 3.**\n",
    "*Discussion*: Why do we need so much data? "
   ]
  },
  {
   "cell_type": "markdown",
   "metadata": {
    "colab_type": "text",
    "id": "GWrwsEh3dpmz"
   },
   "source": [
    "**Task 4.** *Brainstorming*: What particle properties could be measured in this experiment? Type some suggestions in the text cell below"
   ]
  },
  {
   "cell_type": "markdown",
   "metadata": {
    "colab_type": "text",
    "id": "7ZshL4xyi6C-"
   },
   "source": [
    "**A:**"
   ]
  },
  {
   "cell_type": "markdown",
   "metadata": {
    "colab_type": "text",
    "id": "QWF2h58roTC5"
   },
   "source": [
    "**Task 5. **\n",
    "\n",
    "Now it's time for us to shed some light on the content of our data. We can see the first 5 rows using the head function.\n",
    "\n",
    "**Example:**\n",
    "\n",
    "<font color = 'red'>name_of_array</font><font color = 'green'>.head()</font>\n",
    "\n",
    "Use the code cell below to take a look at the first 5 rows of the data. "
   ]
  },
  {
   "cell_type": "code",
   "execution_count": 0,
   "metadata": {
    "colab": {
     "autoexec": {
      "startup": false,
      "wait_interval": 0
     }
    },
    "colab_type": "code",
    "id": "MlCBXh7sJmlw"
   },
   "outputs": [],
   "source": []
  },
  {
   "cell_type": "markdown",
   "metadata": {
    "colab_type": "text",
    "id": "Y6B2AldBKBVT"
   },
   "source": [
    "## 3. Understanding data\n"
   ]
  },
  {
   "cell_type": "markdown",
   "metadata": {
    "colab_type": "text",
    "id": "tHhk4lJ1L6-9"
   },
   "source": [
    "\n",
    "\n",
    "\n",
    "\n",
    "As you can see, there are two particles, since we are looking at pairs of muons. Their properties were measured and calculated in the detector after the collision.\n",
    "Each column labeled with index 1 or 2 corresponds to the particle 1 or 2 respectively.\n",
    "\n",
    "\n",
    "**E** - particle's energy\n",
    "\n",
    "**px, py, pz** -  *x,y,z*-components of the particle's  momentum respectively\n",
    "\n",
    "**pt** - the combination of px and py (component of the momentum that is perpendicular to the beam's movement direction)\n",
    "\n",
    "**eta, phi** - angles that describe particle's movement direction;\n",
    "\n",
    "**Q** - electrical charge of the particle in fundamental charge units\n",
    "\n",
    "**M** - invariant mass of the particle pair\n",
    "\n",
    "\n",
    "Note: Particle physicists use so called \"natural units\" for these quantities. These units use Einstein's famous equation E=mc$^2$ to write energy, momentum and mass in units of GeV, GeV/c and GeV/c$^2$ respectively\n",
    "\n",
    "<img src=\"https://media.giphy.com/media/KpJtbODlSkxYk/giphy.gif\" alt=\"collision\">\n"
   ]
  },
  {
   "cell_type": "markdown",
   "metadata": {
    "colab_type": "text",
    "id": "RFE35ljB55Fy"
   },
   "source": [
    "## 4. Presenting the data \n",
    "\n"
   ]
  },
  {
   "cell_type": "markdown",
   "metadata": {
    "colab_type": "text",
    "id": "yrEA6qeM6Duq"
   },
   "source": [
    "Now we have lots of data presented in form of enormous table. This is clearly not the best to present it, if we want to analyse the data and find evidence for the existence of the J/$\\psi$ particle.\n",
    "\n",
    "We can use a Histogram to better present the data \n",
    "\n",
    "\n",
    "---\n",
    "\n",
    "\n",
    "\n",
    "** *Quick reminder about constructing a histogram:*  **\n",
    "\n",
    "** *Step 1.* ** \n",
    "\n",
    "\"Bin\"  the range of values —divide the entire range of values ( for example, particles energy) into a series of intervals. \n",
    "The bins are consecutive, non-overlapping intervals of a variable. \n",
    "\n",
    "The bins must be adjacent, and are usually of equal size.\n",
    "\n",
    "** *Step 2.* ** \n",
    "\n",
    "Count how many values fall into each interval.If the bins are of equal size, a rectangle's height over the bin is proportional to the the number of cases in each bin. \n",
    "\n",
    "** Example Histogram **\n",
    "\n",
    "\n",
    "![Image](https://upload.wikimedia.org/wikipedia/commons/thumb/d/d9/Black_cherry_tree_histogram.svg/220px-Black_cherry_tree_histogram.svg.png)\n",
    "\n",
    "\n",
    "\n",
    "---\n",
    "\n"
   ]
  },
  {
   "cell_type": "markdown",
   "metadata": {
    "colab_type": "text",
    "id": "kbAiUUfF-qa_"
   },
   "source": [
    "\n",
    "We will now use some code to plot a histogram of our data \n",
    "\n",
    "**Example:**\n",
    "\n",
    "<font color = 'green'> fig = plt.figure( figsize=(15, 10))</font> *(this line determines the size of the histogram and contains a x-scale and a y-scale (like the width and the height of a rectangle)*\n",
    "\n",
    "<font color = 'green'>plt.hist(</font><font color = 'red'>name_of_array.name_of_column, number_of_bins , </font><font color = 'green'>range = </font><font color = 'red'>(min , max)</font><font color = 'green'>)</font> *(this line plots the histogram according to the parameters in the paranthesis.\"range\" sets the limits for the values of the x-axis. \n",
    ")* \n",
    "\n",
    "<font color = 'green'>plt.xlabel(</font><font color = 'red'>'Label, Units'</font><font color = 'green'> \\n, fontsize = 15</font>) *(this line labels the x axis, The \"fontsize\" value is used to determine the size of your text. The symbol \\n creates a new line and makes the plot look nicer.)*\n",
    "\n",
    "<font color = 'green'>plt.ylabel('Number of Events \\n', fontsize = 15)</font> *(this line labels the y axis)*\n",
    "\n",
    "<font color = 'green'>plt.title(</font><font color = 'red'>'Plot Title'</font><font color = 'green'> \\n, fontsize = 15)</font> *(this line provides a title for the plot)*\n",
    "\n",
    "<font color = 'green'>plt.show()"
   ]
  },
  {
   "cell_type": "markdown",
   "metadata": {
    "colab_type": "text",
    "id": "YR_uy5r7Eyoq"
   },
   "source": [
    "** Task 6 ** \n",
    "Plot a histogram for the invariant mass (M) from your data in the code cell below. \n",
    "\n",
    "*Suggestion * : Use a range of invariant masses between 0-150 and try different numbers of bins (start with 200) in order to get the most informative picture. There is no \"best\" number of bins, but different bin numbers can reveal different features of the data. So choose wisely."
   ]
  },
  {
   "cell_type": "code",
   "execution_count": 0,
   "metadata": {
    "colab": {
     "autoexec": {
      "startup": false,
      "wait_interval": 0
     }
    },
    "colab_type": "code",
    "id": "m9nBa0OdJnF6"
   },
   "outputs": [],
   "source": []
  },
  {
   "cell_type": "markdown",
   "metadata": {
    "colab_type": "text",
    "id": "dp4sKnpvHyPt"
   },
   "source": [
    "** Task 7. **\n",
    "What do you notice? Write some general observations based on your histogram in the text cell below. "
   ]
  },
  {
   "cell_type": "markdown",
   "metadata": {
    "colab_type": "text",
    "id": "XjazNgBWWv7j"
   },
   "source": [
    "**A:**"
   ]
  },
  {
   "cell_type": "markdown",
   "metadata": {
    "colab_type": "text",
    "id": "nCmhHZp_P9-T"
   },
   "source": [
    "## 5. Having a closer look."
   ]
  },
  {
   "cell_type": "markdown",
   "metadata": {
    "colab_type": "text",
    "id": "fU2vw7aLP9-V"
   },
   "source": [
    "Congratulations! You just plotted the whole data set and created a nice overview of the invariant masses of your 100 000 detected pairs of muons."
   ]
  },
  {
   "cell_type": "markdown",
   "metadata": {
    "colab_type": "text",
    "id": "EfkGXNXtP9-W"
   },
   "source": [
    "Now let's get one step further. <br>Remember our goal: we want to find evidence of a new particle!<br>Theoretical predictions from 1974 say that there is a probability of 6% that the J/$\\psi$ will decay into two muons. The predicted particle has a mass of around $3 GeV/c^2$ and an average lifetime of $7,2\\cdot10^{-21} s$ .\n",
    "\n",
    "**Task 8. Answer the two questions below:**\n"
   ]
  },
  {
   "cell_type": "markdown",
   "metadata": {
    "colab_type": "text",
    "id": "WTQxN7PWP9-X"
   },
   "source": [
    "<b>Q:</b> What is the important information in the text above which can be used to identify which part of our data set to take a closer look at? "
   ]
  },
  {
   "cell_type": "markdown",
   "metadata": {
    "colab_type": "text",
    "id": "YDNVlqycP9-X"
   },
   "source": [
    "<b>A</b>:"
   ]
  },
  {
   "cell_type": "markdown",
   "metadata": {
    "colab_type": "text",
    "id": "X73UdodoP9-Y"
   },
   "source": [
    "<b>Q:</b> What does it mean to have a mass of $3 GeV/c^2$? How is the unit GeV related to the SI-unit \"kg\"?"
   ]
  },
  {
   "cell_type": "markdown",
   "metadata": {
    "colab_type": "text",
    "id": "13SkTOMwP9-Z"
   },
   "source": [
    "<b>A:</b>"
   ]
  },
  {
   "cell_type": "markdown",
   "metadata": {
    "colab_type": "text",
    "id": "Po3tQl5OP9-a"
   },
   "source": [
    "If we want to zoom in to look at some part of our histogram in more detail we need to create a new array which uses only the part of the data that we are interested in. Then we have to plot the new limited data set. Here is an example: "
   ]
  },
  {
   "cell_type": "markdown",
   "metadata": {
    "colab_type": "text",
    "id": "iqYYumrsP9-c"
   },
   "source": [
    "**Example: **<br>\n",
    "<br><font color='green'> <font color='red'>name_of_new_array</font> = <font color='red'>name_of_original_array</font>[(<font color='red'>name_of_original_array</font>.<font color='red'>name_of_column</font> >= <font color='red'>lower limit</font>) & (<font color='red'>name_of_original_array</font>.<font color='red'>name_of_column</font> <= <font color='red'>higher limit</font>)] </font>\n"
   ]
  },
  {
   "cell_type": "markdown",
   "metadata": {
    "colab_type": "text",
    "id": "_DXGvacxndtk"
   },
   "source": [
    "**Task 9.** Use the code cell below to create a new array of data, limited to the data that will help us plot a zoomed in histogram to find evidence for the J/$\\psi$."
   ]
  },
  {
   "cell_type": "code",
   "execution_count": 0,
   "metadata": {
    "colab": {
     "autoexec": {
      "startup": false,
      "wait_interval": 0
     }
    },
    "colab_type": "code",
    "id": "fZXJqno0oD3d"
   },
   "outputs": [],
   "source": []
  },
  {
   "cell_type": "markdown",
   "metadata": {
    "colab_type": "text",
    "id": "DZsGDqZ-P9-j"
   },
   "source": [
    "<img src=\"https://i.imgur.com/3fAd0w8.gif?1\"\n",
    "alt=\"Coding\">"
   ]
  },
  {
   "cell_type": "markdown",
   "metadata": {
    "colab_type": "text",
    "id": "Sdxp8LtjoF5v"
   },
   "source": [
    "**Task 10.** Use the code cell below to plot a histogram of your new, selected data set. Refer to Section 4 above if you need to remind yourself how to plot a histogram. You might need to change some of the parameters now that you are using a more limited data set."
   ]
  },
  {
   "cell_type": "code",
   "execution_count": 0,
   "metadata": {
    "colab": {
     "autoexec": {
      "startup": false,
      "wait_interval": 0
     }
    },
    "colab_type": "code",
    "id": "LkhHAr6qP9-k"
   },
   "outputs": [],
   "source": []
  },
  {
   "cell_type": "markdown",
   "metadata": {
    "colab_type": "text",
    "id": "PR4zVuSIoztT"
   },
   "source": [
    "## 6. Reflection Questions"
   ]
  },
  {
   "cell_type": "markdown",
   "metadata": {
    "colab_type": "text",
    "id": "S-q9ZGvFP9-q"
   },
   "source": [
    "<b>Q:</b> What the heck am I doing here?"
   ]
  },
  {
   "cell_type": "markdown",
   "metadata": {
    "colab_type": "text",
    "id": "sEf_V9fIP9-r"
   },
   "source": [
    "<b>A:</b>"
   ]
  },
  {
   "cell_type": "markdown",
   "metadata": {
    "colab_type": "text",
    "id": "N9crLZCDP9-s"
   },
   "source": [
    "<b>Q:</b> How can we use the histogram above to give evidence for the existence of the J/$\\psi$ particle?"
   ]
  },
  {
   "cell_type": "markdown",
   "metadata": {
    "colab_type": "text",
    "id": "yUNaGQNSP9-t"
   },
   "source": [
    "<b>A:</b>"
   ]
  },
  {
   "cell_type": "markdown",
   "metadata": {
    "colab_type": "text",
    "id": "HjTvtpZ9P9-t"
   },
   "source": [
    "<b>Q:</b> What physical measurements did we have to make in order to produce this evidence? "
   ]
  },
  {
   "cell_type": "markdown",
   "metadata": {
    "colab_type": "text",
    "id": "0uYYqPNAP9-u"
   },
   "source": [
    "<b>A:</b>"
   ]
  },
  {
   "cell_type": "markdown",
   "metadata": {
    "colab_type": "text",
    "id": "hxBm40ISP9-v"
   },
   "source": [
    "<b>Q:</b> Do you think that this histogram supports the theoretical predictions?"
   ]
  },
  {
   "cell_type": "markdown",
   "metadata": {
    "colab_type": "text",
    "id": "-_ZH5dNuP9-v"
   },
   "source": [
    "<b>A:</b>"
   ]
  },
  {
   "cell_type": "markdown",
   "metadata": {
    "colab_type": "text",
    "id": "2v0oZ_d4P9-4"
   },
   "source": [
    "<b>Q:</b> Why can we not see the \"clear\" mass of our particle but instead a range of masses around it?"
   ]
  },
  {
   "cell_type": "markdown",
   "metadata": {
    "colab_type": "text",
    "id": "LGFdBZJDP9-5"
   },
   "source": [
    "<b>A:</b>"
   ]
  },
  {
   "cell_type": "markdown",
   "metadata": {
    "colab_type": "text",
    "id": "qN2zf1IJP9-z"
   },
   "source": [
    "<b>Q:</b> List the main steps you took to get to your final plot and describe them generally. "
   ]
  },
  {
   "cell_type": "markdown",
   "metadata": {
    "colab_type": "text",
    "id": "leTGFu2fP9-1"
   },
   "source": [
    "<b>A:</b>"
   ]
  },
  {
   "cell_type": "markdown",
   "metadata": {
    "colab_type": "text",
    "id": "kZLFmu4HP9-2"
   },
   "source": [
    "<b>Q:</b> What's your opinion: Can these steps be used to for other scientific problems? Why?"
   ]
  },
  {
   "cell_type": "markdown",
   "metadata": {
    "colab_type": "text",
    "id": "m4MPFj2zP9-2"
   },
   "source": [
    "<b>A:</b>"
   ]
  },
  {
   "cell_type": "markdown",
   "metadata": {
    "colab_type": "text",
    "id": "0V4plvLQP9-w"
   },
   "source": [
    "<b>Q:</b> How could CERN open data be used to \"find\" other particles?"
   ]
  },
  {
   "cell_type": "markdown",
   "metadata": {
    "colab_type": "text",
    "id": "vL7FHbJLP9-x"
   },
   "source": [
    "<b>A:</b>"
   ]
  },
  {
   "cell_type": "markdown",
   "metadata": {
    "colab_type": "text",
    "id": "NCxILqwRP9-y"
   },
   "source": [
    "<b>Q:</b> Why do scientists use programming languages like python and software like jupyter to deal with big data sets?"
   ]
  },
  {
   "cell_type": "markdown",
   "metadata": {
    "colab_type": "text",
    "id": "tkwaLB2qP9-z"
   },
   "source": [
    "<b>A:</b>"
   ]
  },
  {
   "cell_type": "markdown",
   "metadata": {
    "colab_type": "text",
    "id": "JJiGqdo0P9-8"
   },
   "source": [
    "<b> <center><font size=\"6\">Congratulations! You just won the nobel prize!!</b> </center></font><br>\n",
    "Here is some further information about the particle you just found.\n",
    "<br>https://www.symmetrymagazine.org/breaking/2008/05/16/the-jpsi-particle-original-papers"
   ]
  },
  {
   "cell_type": "markdown",
   "metadata": {
    "colab_type": "text",
    "id": "mhJ5dCBDP9-9"
   },
   "source": [
    "<img src=\"https://media.giphy.com/media/3orif4qbRS6WjGJ2zC/giphy.gif\"\n",
    "alt=\"Nobel\">"
   ]
  },
  {
   "cell_type": "markdown",
   "metadata": {
    "colab_type": "text",
    "id": "CqaPTkf7P9--"
   },
   "source": [
    "<img src=\"https://i.pinimg.com/originals/c0/11/53/c011532c725c0f282d20bc6ae46ab27e.gif\"\n",
    "alt=\"Nobel\">"
   ]
  },
  {
   "cell_type": "markdown",
   "metadata": {
    "colab_type": "text",
    "id": "QxNGWwOfP9-_"
   },
   "source": [
    "<img src=\"https://media.giphy.com/media/l0G16vfdq73AtzmKc/giphy.gif\"\n",
    "alt=\"Simpsons\">"
   ]
  },
  {
   "cell_type": "markdown",
   "metadata": {
    "colab_type": "text",
    "id": "iJJndqDAP9-_"
   },
   "source": [
    "<img src=\"https://static1.squarespace.com/static/53422302e4b02233d7451d48/t/54507b04e4b0830eb42cc777/1414560526469/?format=1000w\"\n",
    "alt=\"Brain\">"
   ]
  }
 ],
 "metadata": {
  "colab": {
   "collapsed_sections": [
    "uZbmugoVuaUw"
   ],
   "default_view": {},
   "name": "Copy of Dimuon J/Psi for High School (Student Version).ipynb",
   "provenance": [
    {
     "file_id": "https://github.com/cms-opendata-education/HST-2018/blob/master/Dimuon%20J_Psi%20for%20High%20School%20(Student%20Version).ipynb",
     "timestamp": 1531924496466
    },
    {
     "file_id": "1nTU-AeVdsjN4pUF_1CL9YcOoU1N50FSL",
     "timestamp": 1531319536805
    }
   ],
   "version": "0.3.2",
   "views": {}
  },
  "kernelspec": {
   "display_name": "Python 3",
   "language": "python",
   "name": "python3"
  },
  "language_info": {
   "codemirror_mode": {
    "name": "ipython",
    "version": 3
   },
   "file_extension": ".py",
   "mimetype": "text/x-python",
   "name": "python",
   "nbconvert_exporter": "python",
   "pygments_lexer": "ipython3",
   "version": "3.6.5"
  }
 },
 "nbformat": 4,
 "nbformat_minor": 1
}
